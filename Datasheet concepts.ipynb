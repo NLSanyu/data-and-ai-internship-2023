{
 "cells": [
  {
   "cell_type": "code",
   "execution_count": 3,
   "metadata": {},
   "outputs": [],
   "source": [
    "from owlready2 import *\n",
    "\n",
    "onto = get_ontology(\"http://example.com/datasheet_ontology.owl\")\n",
    "\n",
    "with onto:\n",
    "    class DatasetCharacteristic(Thing):\n",
    "        pass\n",
    "\n",
    "datasheet_concepts = [\"motivation\", \"composition\", \"collection\", \"preprocessing\", \"uses\", \"distribution\", \"maintenance\"]\n",
    "\n",
    "# Load your datasheets and iterate through the concepts\n",
    "for concept in datasheet_concepts:\n",
    "    concept_instance =  DatasetCharacteristic(name=concept)\n",
    "\n",
    "onto.save(\"datasheet_ontology.owl\")"
   ]
  }
 ],
 "metadata": {
  "kernelspec": {
   "display_name": "venv",
   "language": "python",
   "name": "python3"
  },
  "language_info": {
   "codemirror_mode": {
    "name": "ipython",
    "version": 3
   },
   "file_extension": ".py",
   "mimetype": "text/x-python",
   "name": "python",
   "nbconvert_exporter": "python",
   "pygments_lexer": "ipython3",
   "version": "3.11.3"
  },
  "orig_nbformat": 4,
  "vscode": {
   "interpreter": {
    "hash": "e87051af1433a319ffe6f8e97995bdca342af13a84f6489615fbea90e64dfe7e"
   }
  }
 },
 "nbformat": 4,
 "nbformat_minor": 2
}
