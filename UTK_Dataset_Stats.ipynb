{
 "cells": [
  {
   "cell_type": "markdown",
   "id": "08da6b9e",
   "metadata": {},
   "source": [
    "## UTK Dataset Stats"
   ]
  },
  {
   "cell_type": "code",
   "execution_count": 8,
   "id": "c6347f21",
   "metadata": {},
   "outputs": [],
   "source": [
    "import pandas as pd\n",
    "import numpy as np\n",
    "import seaborn as sns\n",
    "import os\n",
    "from PIL import Image, ImageOps"
   ]
  },
  {
   "cell_type": "markdown",
   "id": "f1151635",
   "metadata": {},
   "source": [
    "#### Extract image filenames and load the data inferred into a dataframe"
   ]
  },
  {
   "cell_type": "code",
   "execution_count": 39,
   "id": "04d141f9",
   "metadata": {},
   "outputs": [
    {
     "data": {
      "text/plain": [
       "0"
      ]
     },
     "execution_count": 39,
     "metadata": {},
     "output_type": "execute_result"
    }
   ],
   "source": [
    "ages = []\n",
    "genders = []\n",
    "races = []\n",
    "\n",
    "final_df = pd.DataFrame()\n",
    "\n",
    "dataset_parts = [\"data/part1/\", \"data/part2/\", \"data/part3/\"]\n",
    "\n",
    "for part in dataset_parts:\n",
    "    for filename in os.listdir(part):\n",
    "        split = filename.split(\"_\")\n",
    "        ages.append(split[0])\n",
    "        genders.append(split[1])\n",
    "        races.append(split[2])\n",
    "\n",
    "    df = pd.DataFrame({\"age\": ages, \"gender\": genders, \"race\": races})\n",
    "    final_df.append(df, ignore_index=True)\n",
    "    \n",
    "final_df.size"
   ]
  },
  {
   "cell_type": "code",
   "execution_count": 13,
   "id": "f9808289",
   "metadata": {},
   "outputs": [
    {
     "data": {
      "text/plain": [
       "<seaborn.axisgrid.FacetGrid at 0x1379cde50>"
      ]
     },
     "execution_count": 13,
     "metadata": {},
     "output_type": "execute_result"
    },
    {
     "data": {
      "image/png": "[encoded data removed]",
      "text/plain": [
       "<Figure size 360x360 with 1 Axes>"
      ]
     },
     "metadata": {
      "needs_background": "light"
     },
     "output_type": "display_data"
    }
   ],
   "source": [
    "sns.displot(df['ages'])"
   ]
  },
  {
   "cell_type": "code",
   "execution_count": null,
   "id": "3c04bcae",
   "metadata": {},
   "outputs": [],
   "source": []
  }
 ],
 "metadata": {
  "kernelspec": {
   "display_name": "Python 3",
   "language": "python",
   "name": "python3"
  },
  "language_info": {
   "codemirror_mode": {
    "name": "ipython",
    "version": 3
   },
   "file_extension": ".py",
   "mimetype": "text/x-python",
   "name": "python",
   "nbconvert_exporter": "python",
   "pygments_lexer": "ipython3",
   "version": "3.11.3 (v3.11.3:f3909b8bc8, Apr  4 2023, 20:12:10) [Clang 13.0.0 (clang-1300.0.29.30)]"
  },
  "vscode": {
   "interpreter": {
    "hash": "aee8b7b246df8f9039afb4144a1f6fd8d2ca17a180786b69acc140d282b71a49"
   }
  }
 },
 "nbformat": 4,
 "nbformat_minor": 5
}
